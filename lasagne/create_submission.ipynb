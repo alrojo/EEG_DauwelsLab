{
 "cells": [
  {
   "cell_type": "code",
   "execution_count": 14,
   "metadata": {
    "collapsed": true
   },
   "outputs": [],
   "source": [
    "import os\n",
    "import sys\n",
    "\n",
    "import numpy as np\n",
    "import pandas as pd\n",
    "import glob"
   ]
  },
  {
   "cell_type": "code",
   "execution_count": null,
   "metadata": {
    "collapsed": true
   },
   "outputs": [],
   "source": []
  },
  {
   "cell_type": "code",
   "execution_count": 17,
   "metadata": {
    "collapsed": false
   },
   "outputs": [
    {
     "name": "stdout",
     "output_type": "stream",
     "text": [
      "(39936, 1)\n",
      "       predictions\n",
      "ids               \n",
      "0                0\n",
      "1                0\n",
      "2                0\n",
      "3                0\n",
      "4                0\n",
      "5                0\n",
      "6                0\n",
      "7                0\n",
      "8                0\n",
      "9                0\n",
      "10               0\n",
      "11               0\n",
      "12               0\n",
      "13               0\n",
      "14               0\n",
      "15               0\n",
      "16               0\n",
      "17               0\n",
      "18               0\n",
      "19               0\n",
      "20               0\n",
      "21               0\n",
      "22               0\n",
      "23               0\n",
      "24               0\n",
      "25               0\n",
      "26               0\n",
      "27               0\n",
      "28               0\n",
      "29               0\n",
      "...            ...\n",
      "39906            1\n",
      "39907            1\n",
      "39908            1\n",
      "39909            1\n",
      "39910            1\n",
      "39911            1\n",
      "39912            1\n",
      "39913            1\n",
      "39914            1\n",
      "39915            1\n",
      "39916            1\n",
      "39917            1\n",
      "39918            1\n",
      "39919            1\n",
      "39920            1\n",
      "39921            1\n",
      "39922            1\n",
      "39923            1\n",
      "39924            1\n",
      "39925            1\n",
      "39926            1\n",
      "39927            1\n",
      "39928            1\n",
      "39929            1\n",
      "39930            1\n",
      "39931            1\n",
      "39932            1\n",
      "39933            1\n",
      "39934            1\n",
      "39935            1\n",
      "\n",
      "[39936 rows x 1 columns]\n",
      "       predictions\n",
      "ids               \n",
      "0         0.000204\n",
      "1         0.000204\n",
      "2         0.000204\n",
      "3         0.000204\n",
      "4         0.000204\n",
      "5         0.000204\n",
      "6         0.000204\n",
      "7         0.000204\n",
      "8         0.000204\n",
      "9         0.000204\n",
      "10        0.000204\n",
      "11        0.000204\n",
      "12        0.000204\n",
      "13        0.000204\n",
      "14        0.000204\n",
      "15        0.000204\n",
      "16        0.000204\n",
      "17        0.000204\n",
      "18        0.000204\n",
      "19        0.000204\n",
      "20        0.000204\n",
      "21        0.000204\n",
      "22        0.000204\n",
      "23        0.000204\n",
      "24        0.000204\n",
      "25        0.000204\n",
      "26        0.000204\n",
      "27        0.000204\n",
      "28        0.000204\n",
      "29        0.000204\n",
      "...            ...\n",
      "39906     0.999919\n",
      "39907     0.999906\n",
      "39908     0.999919\n",
      "39909     0.999910\n",
      "39910     0.999919\n",
      "39911     0.999919\n",
      "39912     0.999910\n",
      "39913     0.999919\n",
      "39914     0.999919\n",
      "39915     0.999919\n",
      "39916     0.999910\n",
      "39917     0.999919\n",
      "39918     0.999906\n",
      "39919     0.999919\n",
      "39920     0.999919\n",
      "39921     0.999919\n",
      "39922     0.999910\n",
      "39923     0.999919\n",
      "39924     0.999910\n",
      "39925     0.999919\n",
      "39926     0.999878\n",
      "39927     0.999919\n",
      "39928     0.999910\n",
      "39929     0.999919\n",
      "39930     0.999919\n",
      "39931     0.999919\n",
      "39932     0.999919\n",
      "39933     0.999919\n",
      "39934     0.999919\n",
      "39935     0.999919\n",
      "\n",
      "[39936 rows x 1 columns]\n"
     ]
    }
   ],
   "source": [
    "# true submission\n",
    "backgrounds = np.zeros((36393, 1), dtype='int')\n",
    "spikes = np.ones((3543, 1), dtype='int')\n",
    "total = np.vstack((backgrounds, spikes))\n",
    "print total.shape\n",
    "solution_frame = pd.DataFrame(total, columns=['predictions'])\n",
    "solution_frame.index.name = 'ids'\n",
    "#\n",
    "\n",
    "print solution_frame\n",
    "solution_frame.to_csv('solution_file.csv')\n",
    "\n",
    "# sample_submission\n",
    "all_zeros = np.zeros((total.size, 1))\n",
    "sample_frame = pd.DataFrame(all_zeros, columns = ['predictions'])\n",
    "sample_frame.index.name = 'ids'\n",
    "#print sample_frame\n",
    "sample_frame.to_csv('sample_submission.csv')\n",
    "\n",
    "# my submission\n",
    "pred_path = glob.glob('./predictions/1/predictions_LSTM-1-20160310-144356-149.npy')\n",
    "preds = np.load(pred_path[0])\n",
    "submission_frame = pd.DataFrame(preds, columns = ['predictions'])\n",
    "submission_frame.index.name = 'ids'\n",
    "print submission_frame\n",
    "submission_frame.to_csv('prediction_submission')"
   ]
  },
  {
   "cell_type": "code",
   "execution_count": 22,
   "metadata": {
    "collapsed": false
   },
   "outputs": [
    {
     "name": "stdout",
     "output_type": "stream",
     "text": [
      "[ 0.00017044]\n"
     ]
    }
   ],
   "source": [
    "print preds[5100]"
   ]
  },
  {
   "cell_type": "code",
   "execution_count": 6,
   "metadata": {
    "collapsed": false
   },
   "outputs": [],
   "source": []
  },
  {
   "cell_type": "code",
   "execution_count": 8,
   "metadata": {
    "collapsed": false
   },
   "outputs": [],
   "source": []
  },
  {
   "cell_type": "code",
   "execution_count": 9,
   "metadata": {
    "collapsed": false
   },
   "outputs": [
    {
     "data": {
      "text/plain": [
       "(39936, 1)"
      ]
     },
     "execution_count": 9,
     "metadata": {},
     "output_type": "execute_result"
    }
   ],
   "source": [
    "preds.shape"
   ]
  },
  {
   "cell_type": "code",
   "execution_count": null,
   "metadata": {
    "collapsed": true
   },
   "outputs": [],
   "source": []
  }
 ],
 "metadata": {
  "kernelspec": {
   "display_name": "Python 2",
   "language": "python",
   "name": "python2"
  },
  "language_info": {
   "codemirror_mode": {
    "name": "ipython",
    "version": 2
   },
   "file_extension": ".py",
   "mimetype": "text/x-python",
   "name": "python",
   "nbconvert_exporter": "python",
   "pygments_lexer": "ipython2",
   "version": "2.7.6"
  }
 },
 "nbformat": 4,
 "nbformat_minor": 0
}
