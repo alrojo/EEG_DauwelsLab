{
 "cells": [
  {
   "cell_type": "code",
   "execution_count": 1,
   "metadata": {
    "collapsed": true
   },
   "outputs": [],
   "source": [
    "import sys\n",
    "import numpy as np\n",
    "import glob\n",
    "import matplotlib.pyplot as plt"
   ]
  },
  {
   "cell_type": "code",
   "execution_count": 2,
   "metadata": {
    "collapsed": false
   },
   "outputs": [
    {
     "name": "stdout",
     "output_type": "stream",
     "text": [
      "36393\n",
      "3543\n",
      "1: 39936\n",
      "(39936, 1)\n",
      "64446\n",
      "2010\n",
      "2: 66456\n",
      "(66456, 1)\n",
      "47182\n",
      "1762\n",
      "3: 48944\n",
      "(48944, 1)\n",
      "68887\n",
      "2738\n",
      "4: 71625\n",
      "(71625, 1)\n",
      "53119\n",
      "842\n",
      "5: 53961\n",
      "(53961, 1)\n",
      "59210\n",
      "1746\n",
      "6: 60956\n",
      "(60956, 1)\n",
      "93628\n",
      "2810\n",
      "7: 96438\n",
      "(96438, 1)\n",
      "83403\n",
      "2865\n",
      "8: 86268\n",
      "(86268, 1)\n"
     ]
    }
   ],
   "source": [
    "## labels\n",
    "#1:\n",
    "tb_1 = 36393\n",
    "ts_1 = 3543\n",
    "print tb_1\n",
    "print ts_1\n",
    "print \"1: %d\" %(tb_1 + ts_1)\n",
    "labels_1 = np.vstack((np.zeros((tb_1, 1), dtype='int64'), np.ones((ts_1, 1), dtype='int64')))\n",
    "print labels_1.shape\n",
    "#2:\n",
    "tb_2 = 64446\n",
    "ts_2 = 2010\n",
    "print tb_2\n",
    "print ts_2\n",
    "print \"2: %d\" %(tb_2 + ts_2)\n",
    "labels_2 = np.vstack((np.zeros((tb_2, 1), dtype='int64'), np.ones((ts_2, 1), dtype='int64')))\n",
    "print labels_2.shape\n",
    "#3:\n",
    "tb_3 = 47182\n",
    "ts_3 = 1762\n",
    "print tb_3\n",
    "print ts_3\n",
    "print \"3: %d\" %(tb_3 + ts_3)\n",
    "labels_3 = np.vstack((np.zeros((tb_3, 1), dtype='int64'), np.ones((ts_3, 1), dtype='int64')))\n",
    "print labels_3.shape\n",
    "#4:\n",
    "tb_4 = 68887\n",
    "ts_4 = 2738\n",
    "print tb_4\n",
    "print ts_4\n",
    "print \"4: %d\" %(tb_4 + ts_4)\n",
    "labels_4 = np.vstack((np.zeros((tb_4, 1), dtype='int64'), np.ones((ts_4, 1), dtype='int64')))\n",
    "print labels_4.shape\n",
    "#5:\n",
    "tb_5 = 53119\n",
    "ts_5 = 842\n",
    "print tb_5\n",
    "print ts_5\n",
    "print \"5: %d\" %(tb_5 + ts_5)\n",
    "labels_5 = np.vstack((np.zeros((tb_5, 1), dtype='int64'), np.ones((ts_5, 1), dtype='int64')))\n",
    "print labels_5.shape\n",
    "#6:\n",
    "tb_6 = 59210\n",
    "ts_6 = 1746\n",
    "print tb_6\n",
    "print ts_6\n",
    "print \"6: %d\" %(tb_6 + ts_6)\n",
    "labels_6 = np.vstack((np.zeros((tb_6, 1), dtype='int64'), np.ones((ts_6, 1), dtype='int64')))\n",
    "print labels_6.shape\n",
    "#7:\n",
    "tb_7 = 93628\n",
    "ts_7 = 2810\n",
    "print tb_7\n",
    "print ts_7\n",
    "print \"7: %d\" %(tb_7 + ts_7)\n",
    "labels_7 = np.vstack((np.zeros((tb_7, 1), dtype='int64'), np.ones((ts_7, 1), dtype='int64')))\n",
    "print labels_7.shape\n",
    "#8:\n",
    "tb_8 = 83403\n",
    "ts_8 = 2865\n",
    "print tb_8\n",
    "print ts_8\n",
    "print \"8: %d\" %(tb_8 + ts_8)\n",
    "labels_8 = np.vstack((np.zeros((tb_8, 1), dtype='int64'), np.ones((ts_8, 1), dtype='int64')))\n",
    "print labels_8.shape"
   ]
  },
  {
   "cell_type": "code",
   "execution_count": 3,
   "metadata": {
    "collapsed": false,
    "scrolled": true
   },
   "outputs": [
    {
     "name": "stdout",
     "output_type": "stream",
     "text": [
      "predictions/5/*\n",
      "3\n",
      "predictions/5/predictions_LSTM-5-20160211-001225-10.npy\n",
      "predictions/5/predictions_LSTM-5-20160211-001225-13.npy\n",
      "predictions/5/predictions_LSTM-5-20160211-001225-11.npy\n",
      "(53961, 1)\n",
      "(53961, 1)\n",
      "(53961, 1)\n",
      "[[ 0.00365882]\n",
      " [ 0.00767244]\n",
      " [ 0.00127533]\n",
      " [ 0.00365882]\n",
      " [ 0.02946481]\n",
      " [ 0.00767244]\n",
      " [ 0.00924406]\n",
      " [ 0.00026174]\n",
      " [ 0.00365882]\n",
      " [ 0.02946481]]\n",
      "<type 'numpy.ndarray'>\n"
     ]
    }
   ],
   "source": [
    "# getting data\n",
    "CVsplit=\"5\"\n",
    "p_path_all = \"predictions/\" + CVsplit + \"/*\"\n",
    "print(p_path_all)\n",
    "predictions_path_all = glob.glob(p_path_all)\n",
    "print(len(predictions_path_all))\n",
    "preds = []\n",
    "for predictions_path in predictions_path_all:\n",
    "    print(predictions_path)\n",
    "    preds.append(np.load(predictions_path))\n",
    "\n",
    "for pred in preds:\n",
    "    print pred.shape\n",
    "avrg_preds = (preds[0]+preds[1]+preds[2])/len(preds)\n",
    "print avrg_preds[20000:20010]\n",
    "print(type(avrg_preds))\n",
    "plt.plot(avrg_preds[:], 'ro', markersize=3)\n",
    "plt.show()"
   ]
  },
  {
   "cell_type": "code",
   "execution_count": 13,
   "metadata": {
    "collapsed": false
   },
   "outputs": [
    {
     "name": "stdout",
     "output_type": "stream",
     "text": [
      "[[42912 10207]\n",
      " [    0   842]]\n",
      "[[53119     0]\n",
      " [  560   282]]\n",
      "[[53119     0]\n",
      " [   28   814]]\n"
     ]
    }
   ],
   "source": [
    "## Confusion matrix\n",
    "def get_prediction_hot(p, cutoff=0.5):\n",
    "    y = (p>cutoff).astype('int')\n",
    "    return y\n",
    "#print get_prediction_hot(avrg_preds).dtype\n",
    "#print labels_5.dtype\n",
    "from sklearn.metrics import confusion_matrix\n",
    "cm_25 = confusion_matrix(labels_5.tolist(), get_prediction_hot(avrg_preds, cutoff=0.001).tolist())\n",
    "cm_50 = confusion_matrix(labels_5.tolist(), get_prediction_hot(avrg_preds, cutoff=0.999).tolist())\n",
    "cm_75 = confusion_matrix(labels_5.tolist(), get_prediction_hot(avrg_preds, cutoff=0.75).tolist())\n",
    "print cm_25 \n",
    "print cm_50\n",
    "print cm_75"
   ]
  },
  {
   "cell_type": "code",
   "execution_count": 12,
   "metadata": {
    "collapsed": false
   },
   "outputs": [],
   "source": [
    "def plot_confusion_matrix(cm, title='Confusion matrix 0.50 cutoff, normalized', cmap=plt.cm.Blues):\n",
    "    plt.imshow(cm, interpolation='nearest', cmap=cmap)\n",
    "    plt.title(title)\n",
    "    plt.colorbar()\n",
    "#    tick_marks = np.arange(len(iris.target_names))\n",
    "#    plt.xticks(tick_marks, iris.target_names, rotation=45)\n",
    "#    plt.yticks(tick_marks, iris.target_names)\n",
    "    plt.tight_layout()\n",
    "    plt.ylabel('True label')\n",
    "    plt.xlabel('Predicted label')\n",
    "\n",
    "cm_50_norm = cm_50.astype('float64') / cm_50.sum().astype('float64')\n",
    "#plt.figure()\n",
    "plot_confusion_matrix(cm_50)\n",
    "plt.show()"
   ]
  },
  {
   "cell_type": "code",
   "execution_count": null,
   "metadata": {
    "collapsed": true
   },
   "outputs": [],
   "source": []
  }
 ],
 "metadata": {
  "kernelspec": {
   "display_name": "Python 2",
   "language": "python",
   "name": "python2"
  },
  "language_info": {
   "codemirror_mode": {
    "name": "ipython",
    "version": 2
   },
   "file_extension": ".py",
   "mimetype": "text/x-python",
   "name": "python",
   "nbconvert_exporter": "python",
   "pygments_lexer": "ipython2",
   "version": "2.7.6"
  }
 },
 "nbformat": 4,
 "nbformat_minor": 0
}
